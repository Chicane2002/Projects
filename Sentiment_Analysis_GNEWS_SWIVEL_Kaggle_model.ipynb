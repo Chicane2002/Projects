{
  "nbformat": 4,
  "nbformat_minor": 0,
  "metadata": {
    "colab": {
      "provenance": [],
      "authorship_tag": "ABX9TyOcH8wz8Z3P9Tqmvgq5pw9x",
      "include_colab_link": true
    },
    "kernelspec": {
      "name": "python3",
      "display_name": "Python 3"
    },
    "language_info": {
      "name": "python"
    }
  },
  "cells": [
    {
      "cell_type": "markdown",
      "metadata": {
        "id": "view-in-github",
        "colab_type": "text"
      },
      "source": [
        "<a href=\"https://colab.research.google.com/github/Chicane2002/Projects/blob/main/Sentiment_Analysis_GNEWS_SWIVEL_Kaggle_model.ipynb\" target=\"_parent\"><img src=\"https://colab.research.google.com/assets/colab-badge.svg\" alt=\"Open In Colab\"/></a>"
      ]
    },
    {
      "cell_type": "code",
      "execution_count": null,
      "metadata": {
        "id": "Z1ugmol_8FKT"
      },
      "outputs": [],
      "source": [
        "import tensorflow as tf\n",
        "import numpy as np\n",
        "import tf_keras\n",
        "from tf_keras import Sequential\n",
        "from tf_keras.layers import Dense, Dropout, LSTM, Embedding, LeakyReLU\n",
        "from tf_keras import regularizers\n",
        "import tensorflow_hub as hub\n",
        "import tensorflow_datasets as tfds\n",
        "from tf_keras.callbacks import EarlyStopping\n",
        "\n",
        "training_data, validation_data, test_data = tfds.load(\n",
        "    'imdb_reviews',\n",
        "    split=['train[:80%]', 'train[80%:]', 'test'],\n",
        "    as_supervised=True,\n",
        ")\n",
        "\n",
        "embed = hub.load(\"https://kaggle.com/models/google/gnews-swivel/frameworks/TensorFlow2/variations/tf2-preview-20dim/versions/1\")\n",
        "\n",
        "hub_layer = hub.KerasLayer(embed, input_shape=[], dtype=tf.string, trainable=True)\n",
        "\n",
        "model = Sequential()\n",
        "model.add(hub_layer)\n",
        "model.add(Dense(64, activation=LeakyReLU(alpha=0.1), kernel_regularizer=regularizers.l2(0.01)))\n",
        "model.add(Dropout(0.2))\n",
        "model.add(Dense(64, activation=LeakyReLU(alpha=0.1), kernel_regularizer=regularizers.l2(0.01)))\n",
        "model.add(Dropout(0.2))\n",
        "model.add(Dense(32, activation=LeakyReLU(alpha=0.1), kernel_regularizer=regularizers.l2(0.01)))\n",
        "model.add(Dense(16, activation=LeakyReLU(alpha=0.1), kernel_regularizer=regularizers.l2(0.01)))\n",
        "model.add(Dense(1, activation='sigmoid'))\n",
        "\n",
        "model.compile(optimizer='adam',\n",
        "              loss='binary_crossentropy',\n",
        "              metrics=['accuracy'])\n",
        "early_stopping = EarlyStopping(monitor='val_loss', patience=4)\n",
        "\n",
        "history = model.fit(training_data.shuffle(10000).batch(512),\n",
        "                    validation_data=validation_data.batch(512),\n",
        "                    epochs=25,\n",
        "                    callbacks=[early_stopping], verbose=2\n",
        "                    )\n",
        "loss, accuracy = model.evaluate(test_data.batch(512),verbose=2)\n",
        "print(\"Test Loss: \",loss)\n",
        "print(\"Test Accuracy: \",accuracy)"
      ]
    }
  ]
}